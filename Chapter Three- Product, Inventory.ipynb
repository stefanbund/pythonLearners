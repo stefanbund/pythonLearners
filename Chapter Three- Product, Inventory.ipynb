{
 "cells": [
  {
   "cell_type": "markdown",
   "metadata": {},
   "source": [
    "# Chapter 3\n",
    "As of today, you have two classes, a Product and an Inventory. This is a great thing, as you build up a Store. \n",
    "\n",
    "A Store must contain an inventory, but just one. This is how it works in real life. But when we make objects, we get to mirror real life in the computer. \n",
    "\n",
    "One way to mirror real life, in an object (or class, if you prefer), is to create member variables. For our project, we'll need a member variable that is an Inventory."
   ]
  },
  {
   "cell_type": "code",
   "execution_count": 8,
   "metadata": {},
   "outputs": [],
   "source": [
    "# let's rebuild the two classes we know well, Ice Cream Cone and Order. \n",
    "\n",
    "#Ice Cream Cone:\n",
    "'''\n",
    "consider this application, where we make an order of ice cream cones for a group of lucky 10 year olds \n",
    "after baseball practice\n",
    "'''\n",
    "\n",
    "import random\n",
    "# Define some lists of possible flavors and sizes\n",
    "flavors = [\"vanilla\", \"chocolate\", \"strawberry\", \"mint\", \"caramel\", \"coffee\", \"lemon\", \"coconut\", \"banana\"]\n",
    "sizes = [\"small\", \"medium\", \"large\"]\n",
    "\n",
    "class IceCreamCone:\n",
    "    def __init__(self, flavor, size):\n",
    "        #randomly build up:\n",
    "#         self.name = random.choice(adjectives) + \" \" + random.choice(adjectives) + \" \" + random.choice(adjectives) + \" \" + random.choice(products)\n",
    "#         self.price = round(random.uniform(1, 10), 2)\n",
    "#         for i in range(10):\n",
    "            # Generate a random flavor and size for each cone\n",
    "        self.flavor = random.choice(flavors)\n",
    "        self.size = random.choice(sizes)\n",
    "#         self._flavor = flavor\n",
    "#         self._size = size\n",
    "\n",
    "#     # Getter method for flavor\n",
    "#     def get_flavor(self):\n",
    "#         return self._flavor\n",
    "\n",
    "#     # Setter method for flavor\n",
    "#     def set_flavor(self, flavor):\n",
    "#         self._flavor = flavor\n",
    "\n",
    "#     # Getter method for size\n",
    "#     def get_size(self):\n",
    "#         return self._size\n",
    "\n",
    "#     # Setter method for size\n",
    "#     def set_size(self, size):\n",
    "#         self._size = size\n",
    "\n",
    "    # String representation of IceCreamCone\n",
    "    def __str__(self):\n",
    "        return f'Flavor: {self.flavor}, Size: {self.size}'\n"
   ]
  },
  {
   "cell_type": "code",
   "execution_count": 2,
   "metadata": {},
   "outputs": [],
   "source": [
    "#then the Order, which is a list of cones:\n",
    "# Define the Order class\n",
    "class Order:\n",
    "    def __init__(self):\n",
    "        self.cones = []\n",
    "\n",
    "        num_cones = random.randint(10, 20) # Generate a random number of products between 10 and 20\n",
    "        # Add products to the inventory\n",
    "#         flavors = ['Vanilla', 'Chocolate', 'Strawberry', 'Mint']  # a range of choices \n",
    "#         sizes = ['Small', 'Medium', 'Large'] #more values to choose from\n",
    "        for i in range(num_cones):\n",
    "            flavor = random.choice(flavors) # make a flavor\n",
    "            size = random.choice(sizes) #make a size\n",
    "            cone = IceCreamCone(flavor, size) #make a cone with your values\n",
    "#             order.add_cone(cone) #what we did last time, now try this:\n",
    "            self.cones.append(cone)\n",
    "            #or try: \n",
    "#             self.cones.append(IceCreamCone(flavor, size))\n",
    "                            \n",
    "    # Add an IceCreamCone to the order\n",
    "    def add_cone(self, cone):\n",
    "        self.cones.append(cone)\n",
    "\n",
    "    # Display all cones in the order\n",
    "    def display_order(self):\n",
    "        for cone in self.cones:\n",
    "            print(cone)"
   ]
  },
  {
   "cell_type": "code",
   "execution_count": 9,
   "metadata": {},
   "outputs": [],
   "source": [
    "# let's say we make a neighborhood ice cream stand, where a kid sells ice cream cones on his bike\n",
    "class Stand:\n",
    "    def __init__(self):\n",
    "        self.order = Order()\n",
    "        \n",
    "    def show_stand(self):\n",
    "        print(self.order.display_order())\n",
    "        \n",
    "    def __str(self):\n",
    "        return self.order"
   ]
  },
  {
   "cell_type": "code",
   "execution_count": 11,
   "metadata": {},
   "outputs": [
    {
     "name": "stdout",
     "output_type": "stream",
     "text": [
      "Flavor: caramel, Size: small\n",
      "Flavor: chocolate, Size: medium\n",
      "Flavor: caramel, Size: medium\n",
      "Flavor: strawberry, Size: small\n",
      "Flavor: coconut, Size: large\n",
      "Flavor: mint, Size: small\n",
      "Flavor: mint, Size: medium\n",
      "Flavor: mint, Size: medium\n",
      "Flavor: coconut, Size: small\n",
      "Flavor: chocolate, Size: medium\n",
      "Flavor: coconut, Size: medium\n",
      "Flavor: vanilla, Size: small\n",
      "Flavor: chocolate, Size: medium\n",
      "None\n"
     ]
    }
   ],
   "source": [
    "#let's test it out to see if we're getting what we want:\n",
    "\n",
    "neighborhood_stand = Stand()\n",
    "# print(neighborhood_stand)\n",
    "\n",
    "neighborhood_stand.show_stand()"
   ]
  },
  {
   "cell_type": "markdown",
   "metadata": {},
   "source": [
    "## Let's talk about it\n",
    "\n",
    "Stand is a class that helps to encapsulate, or contain the Order, which is a group of cones. Each cone was given their own features when they are 'created', and these become apparent with the function, __str__ on the cone side. \n",
    "\n",
    "Each cone in an Order is also shown through the display_order function in the Order. \n",
    "\n",
    "Hence, when we create an ice cream stand in a neighborhood, the order helps to organize the flavors in the Stand. "
   ]
  },
  {
   "cell_type": "markdown",
   "metadata": {},
   "source": [
    "## What's Next?\n",
    "\n",
    "You have the skill to create a hierarchy of objects: \n",
    "1. the basic product, which resembles an ice cream cone\n",
    "2. an Inventory, which is a list, or group of products, of any length\n",
    "3. a Store, or Stand, which contains an Inventory. \n",
    "\n",
    "A good discussion might be 'hey, can I get an Inventory without having a Store, or a Stand?'\n",
    "\n",
    "To that I would say, 'you are right.' The Stand is a formality, if anything, and only serves one purpose, to help liquidate the items in Inventory. \n",
    "\n",
    "Another angle to take in that discussion would be: \n",
    "1. an Inventory is an abstract thing. It is merely a list of things we intend to sell. We might not have those cones, in actuality. \n",
    "2. we might own several Stands across town. Each Stand might decide which ice cream to sell, based on local preferences.\n",
    "\n",
    "This means that the Stand serves a purpose. It represents a place where an inventory can be sold, similar to a store, or shop. Which begs the question, 'should we make a Store synonomous with an Inventory, or does  a Store represent a thing unto itself?'\n",
    "\n",
    "Such questions are appropriate to the job of the programmer, who likes to think about how to organize a real-world thing, in a computer.\n",
    "\n",
    "The advantage of organizing a Store inside a computer are manifold: \n",
    "1. how many cones did we sell? \n",
    "2. what kinds of cones sell well, within which neightborhood?\n",
    "\n",
    "This gets us thinking about how we should describe a Store - what must we know about it, in order to manage it well? \n",
    "\n",
    "What happens if we manage one store well? Does that open up the possibility of creating another, with similar results? "
   ]
  },
  {
   "cell_type": "markdown",
   "metadata": {},
   "source": [
    "## Your HW This Module\n",
    "\n",
    "Using the example, you will combine your Product and Inventory objects to form a Store. The store should be a single store, and does not need any member variables (self), other than one Inventory. \n",
    "\n",
    "You should be able to print a list of the Products in the Inventory, in the store, to complete the assignment. Be sure to use the intelligence of your last two assignments: randomized products and a random number of them, or a static number of them in your Inventory. \n",
    "\n",
    "### Some coaching\n",
    "Take time to study the example of the ice cream store, and take a break. Allow yourself to think of the system and practice the details of implementing the hierarchy while you are doing something else (driving, cooking, working out). Then lay down the structure of the classes like we did above, asking these questions: \n",
    "1. what connects one class to another? \n",
    "2. what are the first steps I must take, to make a class appear, and accept data (ie init)\n",
    "3. how do I assign one class to another class, when I create it? \n",
    "4. Can I make a new class, and when I do, make another class part of it (ie, during init)?"
   ]
  }
 ],
 "metadata": {
  "kernelspec": {
   "display_name": "Python 3",
   "language": "python",
   "name": "python3"
  },
  "language_info": {
   "codemirror_mode": {
    "name": "ipython",
    "version": 3
   },
   "file_extension": ".py",
   "mimetype": "text/x-python",
   "name": "python",
   "nbconvert_exporter": "python",
   "pygments_lexer": "ipython3",
   "version": "3.7.3"
  }
 },
 "nbformat": 4,
 "nbformat_minor": 2
}
