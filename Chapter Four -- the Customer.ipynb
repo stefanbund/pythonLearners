{
 "cells": [
  {
   "cell_type": "markdown",
   "metadata": {},
   "source": [
    "## Who Buys an Ice Cream? The Customer\n",
    "\n",
    "Nice work on your python so far. You are now in a position to deepen the simulation. \n",
    "\n",
    "The question is, how? Why not enable shoppers to appear, and potentially make purchases from your inventory. \n",
    "\n",
    "In order to do this, we will continue using the Store/Stand idiom, envision customers, then populate the Store with them. \n",
    "\n",
    "Let's consider the Stand for your hypothetical ice cream stand, with a name and a set of customers."
   ]
  },
  {
   "cell_type": "code",
   "execution_count": 17,
   "metadata": {},
   "outputs": [],
   "source": [
    "# Define a class for store\n",
    "class Stand:\n",
    "    # Initialize a store with a name, an inventory, a list of customers, and a sale object\n",
    "    def __init__(self, name):\n",
    "        self.name = name\n",
    "#         self.inventory = Inventory()\n",
    "        self.customers = []\n",
    "\n",
    "    # Add a customer to the store\n",
    "    def add_customer(self, customer):\n",
    "        self.customers.append(customer)\n",
    "        \n",
    "    def getCustomers(self):\n",
    "        for customer in self.customers:\n",
    "#             print(\"Customer \" + customer.name + \" is shopping.\")\n",
    "            print(\"customer \" + customer.getName() + \" is busy shopping.\")\n",
    "            \n",
    "# Define a class for customer\n",
    "class Customer:\n",
    "    # Initialize a customer with a name and a basket\n",
    "    def __init__(self, name):\n",
    "        self.name = name\n",
    "        \n",
    "    def getName(self):\n",
    "        return self.name\n",
    "    \n",
    "    # Return the name and the basket of the customer\n",
    "    def __str__(self):\n",
    "        return self.name   #+ \" (\" + str(self.basket) + \")\""
   ]
  },
  {
   "cell_type": "markdown",
   "metadata": {},
   "source": [
    "### testing the setup\n",
    "\n",
    "Let's animate the example this way. \n",
    "\n",
    "1. we will make a Stand, with a name\n",
    "2. we will fabricate a list of customers\n",
    "3. we will iterate the customer list, and create one new customer per name\n",
    "4. for each customer in the list we will add it to the Stand/Store\n",
    "5. we will prove the new customer is added"
   ]
  },
  {
   "cell_type": "code",
   "execution_count": 18,
   "metadata": {},
   "outputs": [
    {
     "name": "stdout",
     "output_type": "stream",
     "text": [
      "customer Alice is busy shopping.\n",
      "customer Bob is busy shopping.\n",
      "customer Charlie is busy shopping.\n",
      "customer David is busy shopping.\n",
      "customer Eve is busy shopping.\n",
      "customer Frank is busy shopping.\n",
      "customer Grace is busy shopping.\n",
      "customer Harry is busy shopping.\n",
      "customer Ivy is busy shopping.\n",
      "customer Jack is busy shopping.\n"
     ]
    }
   ],
   "source": [
    "stand2 = Stand(\"Alabama Street Ice Creamery\")\n",
    "\n",
    "names = [\"Alice\",\"Bob\",\"Charlie\",\"David\",\"Eve\",\"Frank\",\"Grace\",\"Harry\",\"Ivy\",\"Jack\"]\n",
    "for i in range(len(names)):\n",
    "    stand2.add_customer(Customer(names[i]))\n",
    "\n",
    "stand2.getCustomers()"
   ]
  },
  {
   "cell_type": "markdown",
   "metadata": {},
   "source": [
    "## Where to, from here?\n",
    "\n",
    "Now that you possess the ability to host customers at your Stand, create a set of customers, and add them to your Store. \n",
    "\n",
    "The above code is abbreviated, and lacks Product and Inventory. Make sure that you add your new code to the existing project, so that each Store has an Inventory of Products, and a new group of Customers. \n",
    "\n",
    "Be sure you can print the names of each Customer. Also, you must possess a class, called 'Customer.' We will do more with the Customer class in upcoming work. \n",
    "\n",
    "Be sure to experiment with several ways to get data from the Customer class, per the example above. \n"
   ]
  }
 ],
 "metadata": {
  "kernelspec": {
   "display_name": "Python 3",
   "language": "python",
   "name": "python3"
  },
  "language_info": {
   "codemirror_mode": {
    "name": "ipython",
    "version": 3
   },
   "file_extension": ".py",
   "mimetype": "text/x-python",
   "name": "python",
   "nbconvert_exporter": "python",
   "pygments_lexer": "ipython3",
   "version": "3.7.3"
  }
 },
 "nbformat": 4,
 "nbformat_minor": 2
}
