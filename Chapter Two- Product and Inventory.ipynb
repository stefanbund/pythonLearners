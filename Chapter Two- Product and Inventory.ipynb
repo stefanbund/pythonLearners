{
 "cells": [
  {
   "cell_type": "markdown",
   "metadata": {},
   "source": [
    "## Chapter Two: Integrating Classes\n",
    "we'll continue to use classes as a way to build more interesting applications. \n",
    "\n",
    "concept one: __str__, or string representations of classes\n",
    "\n",
    "concept two: lists, where you'll see the [] symbols\n",
    "\n",
    "concept three: the return statement, in a class function\n",
    "\n",
    "concept four: using lists to collect, then iterate groups of classes\n",
    "\n",
    "concept five: using a variable, r, to control the size of the experiment"
   ]
  },
  {
   "cell_type": "code",
   "execution_count": 1,
   "metadata": {},
   "outputs": [],
   "source": [
    "'''\n",
    "consider this application, where we make an order of ice cream cones for a group of lucky 10 year olds \n",
    "after baseball practice\n",
    "'''\n",
    "\n",
    "import random\n",
    "\n",
    "# Define the IceCreamCone class\n",
    "class IceCreamCone:\n",
    "    def __init__(self, flavor, size):\n",
    "        self._flavor = flavor\n",
    "        self._size = size\n",
    "\n",
    "    # Getter method for flavor\n",
    "    def get_flavor(self):\n",
    "        return self._flavor\n",
    "\n",
    "    # Setter method for flavor\n",
    "    def set_flavor(self, flavor):\n",
    "        self._flavor = flavor\n",
    "\n",
    "    # Getter method for size\n",
    "    def get_size(self):\n",
    "        return self._size\n",
    "\n",
    "    # Setter method for size\n",
    "    def set_size(self, size):\n",
    "        self._size = size\n",
    "\n",
    "    # String representation of IceCreamCone\n",
    "    def __str__(self):\n",
    "        return f'Flavor: {self._flavor}, Size: {self._size}'\n",
    "\n",
    "# Define the Order class\n",
    "class Order:\n",
    "    def __init__(self):\n",
    "        self.cones = []\n",
    "\n",
    "    # Add an IceCreamCone to the order\n",
    "    def add_cone(self, cone):\n",
    "        self.cones.append(cone)\n",
    "\n",
    "    # Display all cones in the order\n",
    "    def display_order(self):\n",
    "        for cone in self.cones:\n",
    "            print(cone)\n"
   ]
  },
  {
   "cell_type": "code",
   "execution_count": 8,
   "metadata": {},
   "outputs": [
    {
     "name": "stdout",
     "output_type": "stream",
     "text": [
      "Flavor: Mint, Size: Large\n",
      "Flavor: Mint, Size: Small\n",
      "Flavor: Mint, Size: Large\n",
      "Flavor: Mint, Size: Small\n",
      "Flavor: Strawberry, Size: Small\n",
      "Flavor: Mint, Size: Large\n",
      "Flavor: Mint, Size: Small\n",
      "Flavor: Chocolate, Size: Small\n",
      "Flavor: Chocolate, Size: Small\n",
      "Flavor: Mint, Size: Small\n"
     ]
    }
   ],
   "source": [
    "# Create an order and add 10 ice cream cones to it\n",
    "order = Order()  #make the order ahead of time, before you make your products\n",
    "flavors = ['Vanilla', 'Chocolate', 'Strawberry', 'Mint']  # a range of choices \n",
    "sizes = ['Small', 'Medium', 'Large'] #more values to choose from\n",
    "r = 10 # define the length of the domain you'll measure\n",
    "\n",
    "for _ in range(r):\n",
    "    flavor = random.choice(flavors) # make a flavor\n",
    "    size = random.choice(sizes) #make a size\n",
    "    cone = IceCreamCone(flavor, size) #make a cone with your values\n",
    "    order.add_cone(cone) #add the cone to your order\n",
    "\n",
    "# Display the contents of the order\n",
    "order.display_order()"
   ]
  },
  {
   "cell_type": "markdown",
   "metadata": {},
   "source": [
    "## Implications\n",
    "if you possess the ability to design a class, which is used to capture many rows of rich data, you have a valuable skill. \n",
    "\n",
    "### Next up in our project: \n",
    "Create an Inventory class. This class creates a list of Products, which you built last chapter. the Inventory class should fire the Product class, so that it creates many randomly named products, each with a randomly created price. The Inventory should print, using the __str__, which might also be present inside of Product, so you may see the contents. \n",
    "\n",
    "The Inventory is like the Order class above. It contains one row per item. The Inventory acts like a list of all the potential products we could stock in a store. Naturally, when we actually stock a store, our count of each product is one or more, but we can list everything we plan to sell ahead of time, with its respective price. \n",
    "\n",
    "An Inventory contains a critical list, which stores all Products. This requires a product to exist, then be appended to the list. Naturally, you can control the size of the Inventory through a single variable, which you should state as a constant. \n",
    "\n",
    "You can make gigantic inventories, with sprawling lists of products, each with a unique name and price. Go ahead and see how big an inventory you can make -- for example, Ulta states on their website that they carry roughly 200,000 products in their 1,350 stores. That is a big scale for an organization."
   ]
  }
 ],
 "metadata": {
  "kernelspec": {
   "display_name": "Python 3",
   "language": "python",
   "name": "python3"
  },
  "language_info": {
   "codemirror_mode": {
    "name": "ipython",
    "version": 3
   },
   "file_extension": ".py",
   "mimetype": "text/x-python",
   "name": "python",
   "nbconvert_exporter": "python",
   "pygments_lexer": "ipython3",
   "version": "3.7.3"
  }
 },
 "nbformat": 4,
 "nbformat_minor": 2
}
