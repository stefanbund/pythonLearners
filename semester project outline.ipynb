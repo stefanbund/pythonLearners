{
 "cells": [
  {
   "cell_type": "markdown",
   "metadata": {},
   "source": [
    "# semester project outline"
   ]
  },
  {
   "cell_type": "markdown",
   "metadata": {},
   "source": [
    "Create a simulation in python creating several classes. Create the following classes product, inventory, Store, customer, basket, sale, Corporation. Each class must have randomly created names involving three different adjectives and one type of product. Each inventory must contain a list of Products. Each store contains one inventory. Each store has a list of customers Take one item tori and add it to their basket, which is simply a list products. When the customer places in item in their basket the sale object is incremented in the store, providing a total sales, after all of the customers have been iterated. The corporation contains a list of stores each which run the simulation once. A total sales is add it up in the corporation based on the total sales of all the stores."
   ]
  }
 ],
 "metadata": {
  "kernelspec": {
   "display_name": "Python 3",
   "language": "python",
   "name": "python3"
  },
  "language_info": {
   "codemirror_mode": {
    "name": "ipython",
    "version": 3
   },
   "file_extension": ".py",
   "mimetype": "text/x-python",
   "name": "python",
   "nbconvert_exporter": "python",
   "pygments_lexer": "ipython3",
   "version": "3.7.3"
  }
 },
 "nbformat": 4,
 "nbformat_minor": 2
}
