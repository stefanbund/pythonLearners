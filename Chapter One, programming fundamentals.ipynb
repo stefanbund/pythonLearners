{
 "cells": [
  {
   "cell_type": "markdown",
   "metadata": {},
   "source": [
    "## lesson one: class creation, variable access"
   ]
  },
  {
   "cell_type": "markdown",
   "metadata": {},
   "source": [
    "### skill one: create a class\n",
    "\n",
    "Classes know things and they can do things. \n",
    "\n",
    "We need objects to make real programs. They often reflect an architecture, or plan, that organizes a program. They always help a system run more efficiently, and they help organize the program, for the programmer. We can't really make big apps if we aren't using classes, so let's get this concept right now.\n",
    "\n",
    "__init__ is run at the time the class is created, it is short for initialization. \n",
    "\n",
    "the data inside of __init__ is either editable by other programs or not -- sometimes the data is kept secret, to help the class operate. "
   ]
  },
  {
   "cell_type": "code",
   "execution_count": 12,
   "metadata": {},
   "outputs": [
    {
     "name": "stdout",
     "output_type": "stream",
     "text": [
      "Creating a small vanilla ice cream cone.\n",
      "Creating a medium chocolate ice cream cone.\n",
      "Creating a large strawberry ice cream cone.\n"
     ]
    }
   ],
   "source": [
    "# Define a class called IceCreamCone\n",
    "class IceCreamCone:\n",
    "    # Initialize the class with two attributes, flavor and size\n",
    "    def __init__(self, flavor, size):\n",
    "        self.flavor = flavor\n",
    "        self.size = size\n",
    "\n",
    "    # Return the flavor and size of the ice cream cone\n",
    "    def __str__(self):\n",
    "        return \"Creating a \" + self.size + \" \" + self.flavor + \" ice cream cone.\"\n",
    "\n",
    "# Make three different instances of the class with different attributes\n",
    "cone1 = IceCreamCone(\"vanilla\", \"small\")\n",
    "cone2 = IceCreamCone(\"chocolate\", \"medium\")\n",
    "cone3 = IceCreamCone(\"strawberry\", \"large\")\n",
    "\n",
    "# Print the instances and their attributes\n",
    "print(cone1)\n",
    "print(cone2)\n",
    "print(cone3)\n",
    "\n"
   ]
  },
  {
   "cell_type": "markdown",
   "metadata": {},
   "source": [
    "### skill 2: use an if statement\n",
    "test the purity/correctness of the input"
   ]
  },
  {
   "cell_type": "code",
   "execution_count": 2,
   "metadata": {},
   "outputs": [],
   "source": [
    "# Define a class called IceCreamCone\n",
    "class IceCreamCone:\n",
    "    # Initialize the class with two attributes, flavor and size\n",
    "    def __init__(self, flavor, size):\n",
    "        self.flavor = flavor\n",
    "        self.size = size\n",
    "\n",
    "    # Define a read function that allows the caller to read the values of self\n",
    "    def read(self):\n",
    "        return self.flavor, self.size\n",
    "\n",
    "    # Define a set function that allows the flavor and size of the cone to be set\n",
    "    def set(self, flavor=None, size=None):\n",
    "        # Add an if statement, where if the flavor or size is not specified, it will print an error message\n",
    "        if flavor is None or size is None:\n",
    "            print(\"Error: You must specify both the flavor and the size of the cone.\")\n",
    "        else:\n",
    "            self.flavor = flavor\n",
    "            self.size = size\n",
    "            print(\"The flavor and size of the cone have been updated.\")\n"
   ]
  },
  {
   "cell_type": "code",
   "execution_count": 3,
   "metadata": {},
   "outputs": [
    {
     "name": "stdout",
     "output_type": "stream",
     "text": [
      "('vanilla', 'small')\n",
      "('chocolate', 'medium')\n",
      "('strawberry', 'large')\n",
      "('mint', 'small')\n",
      "('caramel', 'medium')\n",
      "The flavor and size of the cone have been updated.\n",
      "The flavor and size of the cone have been updated.\n",
      "The flavor and size of the cone have been updated.\n",
      "('coffee', 'large')\n",
      "('lemon', 'small')\n",
      "('coconut', 'medium')\n",
      "Error: You must specify both the flavor and the size of the cone.\n",
      "Error: You must specify both the flavor and the size of the cone.\n"
     ]
    }
   ],
   "source": [
    "# Create several instances of the class with different attributes\n",
    "cone1 = IceCreamCone(\"vanilla\", \"small\")\n",
    "cone2 = IceCreamCone(\"chocolate\", \"medium\")\n",
    "cone3 = IceCreamCone(\"strawberry\", \"large\")\n",
    "cone4 = IceCreamCone(\"mint\", \"small\")\n",
    "cone5 = IceCreamCone(\"caramel\", \"medium\")\n",
    "\n",
    "# Use the read function to get the flavor and size of each cone\n",
    "print(cone1.read())\n",
    "print(cone2.read())\n",
    "print(cone3.read())\n",
    "print(cone4.read())\n",
    "print(cone5.read())\n",
    "\n",
    "# Use the set function to change the flavor and size of some cones\n",
    "cone1.set(\"coffee\", \"large\")\n",
    "cone2.set(\"lemon\", \"small\")\n",
    "cone4.set(\"coconut\", \"medium\")\n",
    "\n",
    "# Use the read function again to see the updated values\n",
    "print(cone1.read())\n",
    "print(cone2.read())\n",
    "print(cone4.read())\n",
    "\n",
    "# Use the set function with invalid inputs and see the error message\n",
    "cone3.set(\"banana\")\n",
    "cone5.set(size=\"big\")\n"
   ]
  },
  {
   "cell_type": "markdown",
   "metadata": {},
   "source": [
    "### skill 3: for loops"
   ]
  },
  {
   "cell_type": "code",
   "execution_count": 4,
   "metadata": {},
   "outputs": [
    {
     "name": "stdout",
     "output_type": "stream",
     "text": [
      "0\n",
      "1\n",
      "2\n",
      "3\n",
      "4\n",
      "5\n",
      "6\n",
      "7\n",
      "8\n",
      "9\n",
      "10\n",
      "11\n",
      "12\n",
      "13\n",
      "14\n",
      "15\n",
      "16\n",
      "17\n",
      "18\n",
      "19\n",
      "20\n",
      "21\n",
      "22\n",
      "23\n",
      "24\n"
     ]
    }
   ],
   "source": [
    "for i in range(25):\n",
    "    print(i)\n"
   ]
  },
  {
   "cell_type": "markdown",
   "metadata": {},
   "source": [
    "### try this: a list of strings, loop and print"
   ]
  },
  {
   "cell_type": "code",
   "execution_count": 5,
   "metadata": {},
   "outputs": [
    {
     "name": "stdout",
     "output_type": "stream",
     "text": [
      "0 apple\n",
      "1 banana\n",
      "2 cherry\n"
     ]
    }
   ],
   "source": [
    "# Define a list of strings\n",
    "fruits = [\"apple\", \"banana\", \"cherry\"]\n",
    "\n",
    "# Use a for loop with enumerate to iterate over the list\n",
    "for index, fruit in enumerate(fruits):\n",
    "    # Print the index and value of each string\n",
    "    print(index, fruit)\n"
   ]
  },
  {
   "cell_type": "markdown",
   "metadata": {},
   "source": [
    "### skill 4: lists\n",
    "create random numbers, and place them in a list, which you iterate"
   ]
  },
  {
   "cell_type": "code",
   "execution_count": 6,
   "metadata": {},
   "outputs": [
    {
     "name": "stdout",
     "output_type": "stream",
     "text": [
      "Element 0: 58\n",
      "Element 1: 60\n",
      "Element 2: 83\n",
      "Element 3: 60\n",
      "Element 4: 4\n",
      "Element 5: 56\n",
      "Element 6: 48\n",
      "Element 7: 82\n",
      "Element 8: 11\n",
      "Element 9: 8\n"
     ]
    }
   ],
   "source": [
    "# Import random module\n",
    "import random\n",
    "\n",
    "# Create a list of random numbers between 1 and 100\n",
    "my_list = []\n",
    "for i in range(10):\n",
    "    my_list.append(random.randint(1, 100))\n",
    "\n",
    "# Iterate over the list, printing the element and the index\n",
    "for i, num in enumerate(my_list):\n",
    "    print(\"Element \" + str(i) + \": \" + str(num))\n"
   ]
  },
  {
   "cell_type": "markdown",
   "metadata": {},
   "source": [
    "### keep track of the randomization, to prove it really randomizes..."
   ]
  },
  {
   "cell_type": "code",
   "execution_count": 7,
   "metadata": {},
   "outputs": [
    {
     "name": "stdout",
     "output_type": "stream",
     "text": [
      "Element 0: [80, 31, 10, 68, 64, 74, 48, 25, 64, 11]\n",
      "Element 1: [99, 45, 38, 61, 34, 21, 93, 81, 52, 56]\n",
      "Element 2: [20, 100, 64, 60, 31, 2, 44, 66, 23, 48]\n",
      "Element 3: [15, 89, 29, 13, 81, 34, 93, 62, 95, 67]\n",
      "Element 4: [26, 29, 84, 91, 72, 58, 13, 84, 59, 60]\n",
      "Element 5: [95, 37, 71, 57, 32, 40, 28, 15, 13, 6]\n",
      "Element 6: [16, 34, 55, 21, 84, 54, 16, 72, 74, 25]\n",
      "Element 7: [43, 98, 16, 7, 55, 5, 52, 27, 95, 17]\n",
      "Element 8: [87, 87, 61, 78, 81, 32, 70, 99, 15, 44]\n",
      "Element 9: [71, 61, 45, 19, 44, 4, 63, 28, 88, 5]\n",
      "Element 10: [22, 6, 40, 18, 71, 51, 34, 2, 93, 16]\n",
      "Element 11: [86, 74, 2, 95, 35, 22, 76, 39, 64, 90]\n",
      "Element 12: [27, 80, 50, 27, 46, 47, 72, 40, 51, 43]\n",
      "Element 13: [59, 18, 75, 100, 8, 60, 61, 21, 14, 24]\n",
      "Element 14: [99, 54, 15, 48, 66, 1, 56, 9, 42, 76]\n"
     ]
    }
   ],
   "source": [
    "# Import random module\n",
    "import random\n",
    "globalList = []\n",
    "for j in range(15):\n",
    "# Create a list of random numbers between 1 and 100\n",
    "    my_list = []\n",
    "    for i in range(10):\n",
    "        my_list.append(random.randint(1, 100))\n",
    "    globalList.append(my_list)\n",
    "\n",
    "# Iterate over the list, printing the element and the index\n",
    "for j, num in enumerate(globalList):\n",
    "    print(\"Element \" + str(j) + \": \" + str(num))\n"
   ]
  },
  {
   "cell_type": "code",
   "execution_count": 8,
   "metadata": {},
   "outputs": [
    {
     "name": "stdout",
     "output_type": "stream",
     "text": [
      "Rendition 1:\n",
      "Element 0: 4\n",
      "Element 1: 5\n",
      "Element 2: 36\n",
      "Element 3: 27\n",
      "Element 4: 95\n",
      "Element 5: 35\n",
      "Element 6: 87\n",
      "Element 7: 41\n",
      "Element 8: 40\n",
      "Element 9: 46\n",
      "Rendition 2:\n",
      "Element 0: 81\n",
      "Element 1: 80\n",
      "Element 2: 81\n",
      "Element 3: 23\n",
      "Element 4: 91\n",
      "Element 5: 46\n",
      "Element 6: 84\n",
      "Element 7: 81\n",
      "Element 8: 70\n",
      "Element 9: 42\n",
      "Rendition 3:\n",
      "Element 0: 42\n",
      "Element 1: 14\n",
      "Element 2: 53\n",
      "Element 3: 95\n",
      "Element 4: 100\n",
      "Element 5: 73\n",
      "Element 6: 13\n",
      "Element 7: 12\n",
      "Element 8: 67\n",
      "Element 9: 53\n",
      "Rendition 4:\n",
      "Element 0: 13\n",
      "Element 1: 56\n",
      "Element 2: 69\n",
      "Element 3: 68\n",
      "Element 4: 8\n",
      "Element 5: 89\n",
      "Element 6: 94\n",
      "Element 7: 92\n",
      "Element 8: 27\n",
      "Element 9: 2\n",
      "Rendition 5:\n",
      "Element 0: 66\n",
      "Element 1: 18\n",
      "Element 2: 10\n",
      "Element 3: 86\n",
      "Element 4: 62\n",
      "Element 5: 23\n",
      "Element 6: 83\n",
      "Element 7: 17\n",
      "Element 8: 4\n",
      "Element 9: 6\n",
      "Rendition 6:\n",
      "Element 0: 22\n",
      "Element 1: 60\n",
      "Element 2: 76\n",
      "Element 3: 13\n",
      "Element 4: 30\n",
      "Element 5: 74\n",
      "Element 6: 55\n",
      "Element 7: 98\n",
      "Element 8: 48\n",
      "Element 9: 52\n",
      "Rendition 7:\n",
      "Element 0: 8\n",
      "Element 1: 98\n",
      "Element 2: 58\n",
      "Element 3: 33\n",
      "Element 4: 64\n",
      "Element 5: 81\n",
      "Element 6: 39\n",
      "Element 7: 70\n",
      "Element 8: 65\n",
      "Element 9: 37\n",
      "Rendition 8:\n",
      "Element 0: 4\n",
      "Element 1: 9\n",
      "Element 2: 55\n",
      "Element 3: 38\n",
      "Element 4: 30\n",
      "Element 5: 47\n",
      "Element 6: 37\n",
      "Element 7: 67\n",
      "Element 8: 12\n",
      "Element 9: 15\n",
      "Rendition 9:\n",
      "Element 0: 91\n",
      "Element 1: 7\n",
      "Element 2: 10\n",
      "Element 3: 13\n",
      "Element 4: 91\n",
      "Element 5: 51\n",
      "Element 6: 94\n",
      "Element 7: 83\n",
      "Element 8: 18\n",
      "Element 9: 38\n",
      "Rendition 10:\n",
      "Element 0: 82\n",
      "Element 1: 24\n",
      "Element 2: 80\n",
      "Element 3: 97\n",
      "Element 4: 59\n",
      "Element 5: 99\n",
      "Element 6: 42\n",
      "Element 7: 34\n",
      "Element 8: 23\n",
      "Element 9: 83\n"
     ]
    }
   ],
   "source": [
    "# Import random module\n",
    "import random\n",
    "\n",
    "# Create a list of random numbers between 1 and 100\n",
    "my_list = [random.randint(1, 100) for i in range(10)]\n",
    "\n",
    "# Iterate over the list, printing the element and the index\n",
    "# for i, num in enumerate(my_list):\n",
    "#     print(\"Element \" + str(i) + \": \" + str(num))\n",
    "#-------------------------------------------------------------\n",
    "\n",
    "\n",
    "# Maintain a list of all the different renditions of random numbers\n",
    "renditions = [my_list]\n",
    "\n",
    "# Rerun the list of randoms 10 times\n",
    "for j in range(10):\n",
    "    # Create a new list of random numbers\n",
    "    new_list = [random.randint(1, 100) for i in range(10)]\n",
    "    # Check if the new list is different from the previous renditions\n",
    "    if new_list not in renditions:\n",
    "        # If yes, add it to the renditions list\n",
    "        renditions.append(new_list)\n",
    "        # Print the new list and its index\n",
    "        print(\"Rendition \" + str(j+1) + \":\")\n",
    "        for i, num in enumerate(new_list):\n",
    "            print(\"Element \" + str(i) + \": \" + str(num))\n",
    "    else:\n",
    "        # If no, skip the new list\n",
    "        print(\"Rendition \" + str(j+1) + \": Skipped\")\n",
    "\n"
   ]
  },
  {
   "cell_type": "markdown",
   "metadata": {},
   "source": [
    "### lesson one integration: loop it, instantiating multiple classes, based on a random value"
   ]
  },
  {
   "cell_type": "code",
   "execution_count": 20,
   "metadata": {},
   "outputs": [
    {
     "name": "stdout",
     "output_type": "stream",
     "text": [
      "Creating a medium lemon ice cream cone.\n",
      "Creating a medium chocolate ice cream cone.\n",
      "Creating a small lemon ice cream cone.\n",
      "Creating a large strawberry ice cream cone.\n",
      "Creating a medium coffee ice cream cone.\n",
      "Creating a large lemon ice cream cone.\n",
      "Creating a large coffee ice cream cone.\n",
      "Creating a medium mint ice cream cone.\n",
      "Creating a large banana ice cream cone.\n",
      "Creating a large lemon ice cream cone.\n"
     ]
    }
   ],
   "source": [
    "# Import the IceCreamCone class from another file\n",
    "# from ice_cream_cone import IceCreamCone\n",
    "\n",
    "# Import the random module to generate random flavors and sizes\n",
    "import random\n",
    "\n",
    "# Define some lists of possible flavors and sizes\n",
    "flavors = [\"vanilla\", \"chocolate\", \"strawberry\", \"mint\", \"caramel\", \"coffee\", \"lemon\", \"coconut\", \"banana\"]\n",
    "sizes = [\"small\", \"medium\", \"large\"]\n",
    "\n",
    "# Implement a for loop where the IceCreamCone class is instantiated 100 times\n",
    "for i in range(10):\n",
    "    # Generate a random flavor and size for each cone\n",
    "    flavor = random.choice(flavors)\n",
    "    size = random.choice(sizes)\n",
    "    # Create an object of the IceCreamCone class with the random flavor and size\n",
    "    cone = IceCreamCone(flavor, size)\n",
    "    # Print the object and its attributes\n",
    "#     print(cone) #uses the str() part of the class\n",
    "    print(str(cone))\n"
   ]
  },
  {
   "cell_type": "markdown",
   "metadata": {},
   "source": [
    "### using random among many lists of words"
   ]
  },
  {
   "cell_type": "code",
   "execution_count": 24,
   "metadata": {},
   "outputs": [
    {
     "name": "stdout",
     "output_type": "stream",
     "text": [
      "short purple happy soaked\n"
     ]
    }
   ],
   "source": [
    "# Import the random module\n",
    "import random\n",
    "\n",
    "# Define one or more lists of adjectives\n",
    "adjectives1 = [\"big\", \"small\", \"tall\", \"short\", \"long\", \"wide\"]\n",
    "adjectives2 = [\"red\", \"blue\", \"green\", \"yellow\", \"pink\", \"purple\"]\n",
    "adjectives3 = [\"happy\", \"sad\", \"angry\", \"calm\", \"funny\", \"serious\"]\n",
    "adjectives4 = [\"hot\", \"cold\", \"warm\", \"cool\", \"soaked\", \"dry\"]\n",
    "\n",
    "# Use the random.choice function to select an adjective from each list and concatenate them into a string\n",
    "string = random.choice(adjectives1) + \" \" + random.choice(adjectives2) + \" \" + random.choice(adjectives3) + \" \" + random.choice(adjectives4)\n",
    "\n",
    "# Print the resulting string\n",
    "print(string)\n"
   ]
  },
  {
   "cell_type": "markdown",
   "metadata": {},
   "source": [
    "# application: products and inventories\n",
    "read through our semester project. Create a Product class, where the name of the project is randmonly created, using a set of words you designate. You must choose an industry for the product, as well as the lists of words, to build up its name. \n",
    "\n",
    "Institute a list whereby you create an Invetory of Products. "
   ]
  }
 ],
 "metadata": {
  "kernelspec": {
   "display_name": "Python 3",
   "language": "python",
   "name": "python3"
  },
  "language_info": {
   "codemirror_mode": {
    "name": "ipython",
    "version": 3
   },
   "file_extension": ".py",
   "mimetype": "text/x-python",
   "name": "python",
   "nbconvert_exporter": "python",
   "pygments_lexer": "ipython3",
   "version": "3.7.3"
  }
 },
 "nbformat": 4,
 "nbformat_minor": 2
}
